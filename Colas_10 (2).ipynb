{
  "nbformat": 4,
  "nbformat_minor": 0,
  "metadata": {
    "colab": {
      "name": "Colas_10.ipynb",
      "provenance": []
    },
    "kernelspec": {
      "name": "python3",
      "display_name": "Python 3"
    },
    "language_info": {
      "name": "python"
    }
  },
  "cells": [
    {
      "cell_type": "markdown",
      "metadata": {
        "id": "XTgfjDwLKmRR"
      },
      "source": [
        ""
      ]
    },
    {
      "cell_type": "code",
      "metadata": {
        "id": "SAuVDHAOJ9k_"
      },
      "source": [
        "class Queue:\n",
        "    def __init__(self): \n",
        "        self.data = []\n",
        "    \n",
        "    def is_empty( self):\n",
        "        return len( self.data)==0\n",
        "\n",
        "    def lenght( self ):\n",
        "        return len( self.data)\n",
        "    \n",
        "    def enqueue( self , value ):\n",
        "        self.data.append( value)\n",
        "\n",
        "    def dequeue( self ):\n",
        "        return self.data.pop(0)\n",
        "\n",
        "    def to_string( self ):\n",
        "        for elem in self.data:\n",
        "            print(f\"| {elem } | <--\" , end=\"\")\n"
      ],
      "execution_count": null,
      "outputs": []
    },
    {
      "cell_type": "code",
      "metadata": {
        "colab": {
          "base_uri": "https://localhost:8080/"
        },
        "id": "bFpqie_RMrpv",
        "outputId": "d943bfe2-626a-4d4b-cc9d-053cc0aecd81"
      },
      "source": [
        "cola= Queue()\n",
        "print(\"Esta vacio?:\" , cola.is_empty())\n",
        "print(\"numero de elementos = \" , cola.lenght() )\n",
        "cola.enqueue(10)\n",
        "cola.enqueue(20)\n",
        "cola.enqueue(30)\n",
        "print(\"Esta vacio?:\" , cola.is_empty())\n",
        "print(\"numero de elementos = \" , cola.lenght() )\n",
        "cola.enqueue(40)\n",
        "cola.enqueue(50)\n",
        "cola.enqueue(60)\n",
        "cola.to_string()\n",
        "siguiente = cola.dequeue()\n",
        "print(\"Atendiendo a:\" , siguiente)\n",
        "cola.to_string()"
      ],
      "execution_count": null,
      "outputs": [
        {
          "output_type": "stream",
          "name": "stdout",
          "text": [
            "Esta vacio?: True\n",
            "numero de elementos =  0\n",
            "Esta vacio?: False\n",
            "numero de elementos =  3\n",
            "| 10 | <--| 20 | <--| 30 | <--| 40 | <--| 50 | <--| 60 | <--Atendiendo a: 10\n",
            "| 20 | <--| 30 | <--| 40 | <--| 50 | <--| 60 | <--"
          ]
        }
      ]
    },
    {
      "cell_type": "markdown",
      "metadata": {
        "id": "58guFtdbQm7J"
      },
      "source": [
        "#VARIANTES DEL ADT COLA\n",
        "1. Circulares\n",
        "2. Prioridad\n",
        "     2.1 acotada\n",
        "     2.2 no acotada"
      ]
    },
    {
      "cell_type": "code",
      "metadata": {
        "id": "Eo3xO4_TiAwe"
      },
      "source": [
        "#Prioridad\n",
        "class Nodo:\n",
        "    def __init__(self, prioridad):\n",
        "        self.prioridad = prioridad\n",
        "        self.elem = elem\n",
        "    def __init__( self ):\n",
        "        self.data = []\n",
        "\n",
        "class PriorityQueue:\n",
        "    def __init__( self ):\n",
        "        self.data= []\n",
        "    \n",
        "    def is_empty( self ):\n",
        "        return len( self.data ) == 0\n",
        "    \n",
        "    def length( self ):\n",
        "        return len( self.data )\n",
        "\n",
        "    def enqueue( self, value ):\n",
        "        dato = (value)\n",
        "        conta = -1\n",
        "        continua = True\n",
        "\n",
        "        if self.is_empty():\n",
        "            self.data.append(dato)\n",
        "        else:\n",
        "            while continua:\n",
        "                contar += 1\n",
        "\n",
        "                if contar == self.length(): \n",
        "                    continua = False\n",
        "\n",
        "                elif dato[0] < self.data[conta][0]: \n",
        "                    continua = False\n",
        "\n",
        "            self.data.insert(contar, dato)\n",
        "\n",
        "    def dequeue ( self ):\n",
        "        return self.data.pop(0)\n",
        "    \n",
        "    def to_string( self ):\n",
        "        for elem in self.data:\n",
        "            print(f\"|{elem}| <---\" , end=\"\")\n",
        "        print(\"\")\n",
        "\n"
      ],
      "execution_count": null,
      "outputs": []
    },
    {
      "cell_type": "code",
      "metadata": {
        "colab": {
          "base_uri": "https://localhost:8080/",
          "height": 273
        },
        "id": "9OTCbkabkljX",
        "outputId": "ede3dc11-b607-4de9-b3bf-87e11a4f7cca"
      },
      "source": [
        "colap = PriorityQueue()\n",
        "print(f\"La lista esta vacia? ={colap.is_empty()}\")\n",
        "print(f\"Longitud de la cola:{colap.length()}\")\n",
        "nodoa= Nodo(1,\"Niños\")\n",
        "nodob= Nodo(2,\"Mujeres\")\n",
        "nodoc= Nodo(3,\"Personas mayores\")\n",
        "nodod= Nodo(5,\"Hombres\")\n",
        "nodoe= Nodo(6,\"Tribulacion\")\n",
        "nodof= Nodo(7,\"Capitan y trabajadores\")\n",
        "\n",
        "colap.enqueue(nodoa)\n",
        "colap.enqueue(nodob)\n",
        "colap.enqueue(nodoc)\n",
        "colap.enqueue(nodod)\n",
        "colap.enqueue(nodoe)\n",
        "colap.enqueue(nodof)\n",
        "\n",
        "print(\"\")\n",
        "colap.to_string()\n",
        "colap.dequeue()\n",
        "print(\"\")"
      ],
      "execution_count": 39,
      "outputs": [
        {
          "output_type": "stream",
          "name": "stdout",
          "text": [
            "La lista esta vacia? =True\n",
            "Longitud de la cola:0\n"
          ]
        },
        {
          "output_type": "error",
          "ename": "TypeError",
          "evalue": "ignored",
          "traceback": [
            "\u001b[0;31m---------------------------------------------------------------------------\u001b[0m",
            "\u001b[0;31mTypeError\u001b[0m                                 Traceback (most recent call last)",
            "\u001b[0;32m<ipython-input-39-4407a1b3f369>\u001b[0m in \u001b[0;36m<module>\u001b[0;34m()\u001b[0m\n\u001b[1;32m      2\u001b[0m \u001b[0mprint\u001b[0m\u001b[0;34m(\u001b[0m\u001b[0;34mf\"La lista esta vacia? ={colap.is_empty()}\"\u001b[0m\u001b[0;34m)\u001b[0m\u001b[0;34m\u001b[0m\u001b[0;34m\u001b[0m\u001b[0m\n\u001b[1;32m      3\u001b[0m \u001b[0mprint\u001b[0m\u001b[0;34m(\u001b[0m\u001b[0;34mf\"Longitud de la cola:{colap.length()}\"\u001b[0m\u001b[0;34m)\u001b[0m\u001b[0;34m\u001b[0m\u001b[0;34m\u001b[0m\u001b[0m\n\u001b[0;32m----> 4\u001b[0;31m \u001b[0mnodoa\u001b[0m\u001b[0;34m=\u001b[0m \u001b[0mNodo\u001b[0m\u001b[0;34m(\u001b[0m\u001b[0;36m1\u001b[0m\u001b[0;34m,\u001b[0m\u001b[0;34m\"Niños\"\u001b[0m\u001b[0;34m)\u001b[0m\u001b[0;34m\u001b[0m\u001b[0;34m\u001b[0m\u001b[0m\n\u001b[0m\u001b[1;32m      5\u001b[0m \u001b[0mnodob\u001b[0m\u001b[0;34m=\u001b[0m \u001b[0mNodo\u001b[0m\u001b[0;34m(\u001b[0m\u001b[0;36m2\u001b[0m\u001b[0;34m,\u001b[0m\u001b[0;34m\"Mujeres\"\u001b[0m\u001b[0;34m)\u001b[0m\u001b[0;34m\u001b[0m\u001b[0;34m\u001b[0m\u001b[0m\n\u001b[1;32m      6\u001b[0m \u001b[0mnodoc\u001b[0m\u001b[0;34m=\u001b[0m \u001b[0mNodo\u001b[0m\u001b[0;34m(\u001b[0m\u001b[0;36m3\u001b[0m\u001b[0;34m,\u001b[0m\u001b[0;34m\"Personas mayores\"\u001b[0m\u001b[0;34m)\u001b[0m\u001b[0;34m\u001b[0m\u001b[0;34m\u001b[0m\u001b[0m\n",
            "\u001b[0;31mTypeError\u001b[0m: __init__() takes 1 positional argument but 3 were given"
          ]
        }
      ]
    },
    {
      "cell_type": "code",
      "metadata": {
        "id": "4X0mXDD6E0ic"
      },
      "source": [
        " #implementaacion cola de prioridad acotada\n",
        "class BoundedPriorityQueue:\n",
        "    def __init__( self, niveles ):\n",
        "        self.__data = [Queue() for x in range(niveles)]\n",
        "        #self.__data = Array(niveles)\n",
        "        #self.__data.clear( Queue() )\n",
        "        self.__size = 0\n",
        "        \n",
        "    def is_empty( self ):\n",
        "         return self.__size == 0\n",
        "\n",
        "    def length( self ):\n",
        "         return self.__size\n",
        "\n",
        "    def enqueue( self, prioridad, elem):\n",
        "        if prioridad < len( self.__data) \\\n",
        "           and prioridad >= 0:\n",
        "           self.__data[ prioridad ].enqueue( elem )\n",
        "           self.__size +=1\n",
        "\n",
        "    def dequeue( self ):\n",
        "        nivel = 0\n",
        "        while self.__data[nivel].is_empty() \\\n",
        "              and nivel < self.length():\n",
        "            nivel +=1\n",
        "\n",
        "        if nivel >= self.length():\n",
        "            print(\"cola esta vacia\")\n",
        "        else:\n",
        "            return self.__data[ nivel ].dequeue()\n",
        "\n",
        "    def to_string( self ):\n",
        "        prioridad = 0\n",
        "        for cola in self.__data:\n",
        "            print(f\"Prioridad {prioridad} ->\", end=\"\")\n",
        "            if not cola.is_empty():\n",
        "                cola.to_string()\n",
        "                prioridad= +1\n",
        "\n",
        "\n"
      ],
      "execution_count": 50,
      "outputs": []
    },
    {
      "cell_type": "code",
      "metadata": {
        "colab": {
          "base_uri": "https://localhost:8080/",
          "height": 360
        },
        "id": "NYFcxeifM6rl",
        "outputId": "700198fd-cd7e-45c4-ab61-581f6038e044"
      },
      "source": [
        "# prueba de la cola con prioridad \n",
        "\n",
        "salvavidas = BoundedPriotityQueue( 7 )\n",
        "salvavidas.enqueue( 4 , \"Maestro\" )\n",
        "salvavidas.enqueue( 1 , \"Niños\" )\n",
        "salvavidas.enqueue( 4 , \"Mecanico\" )\n",
        "salvavidas.enqueue( 3 , \"Mujeres\" )\n",
        "salvavidas.enqueue( 2 , \"Tercera edad\" )\n",
        "salvavidas.enqueue( 1 , \"Niñas\" )\n",
        "salvavidas.enqueue( 3 , \"Hombres\" )\n",
        "salvavidas.enqueue( 4 , \"Vigia\" )\n",
        "salvavidas.enqueue( 5 , \"Capitan\" )\n",
        "salvavidas.enqueue( 4 , \"Timonel\" )\n",
        "salvavidas.to_string()\n",
        "sig = salvavidas.dequeue()\n",
        "print(f\"Subiendo {sig} al bote salvavidas!!\")\n",
        "salvavidas.to_string()"
      ],
      "execution_count": 51,
      "outputs": [
        {
          "output_type": "error",
          "ename": "NameError",
          "evalue": "ignored",
          "traceback": [
            "\u001b[0;31m---------------------------------------------------------------------------\u001b[0m",
            "\u001b[0;31mNameError\u001b[0m                                 Traceback (most recent call last)",
            "\u001b[0;32m<ipython-input-51-f90c113495fe>\u001b[0m in \u001b[0;36m<module>\u001b[0;34m()\u001b[0m\n\u001b[1;32m     12\u001b[0m \u001b[0msalvavidas\u001b[0m\u001b[0;34m.\u001b[0m\u001b[0menqueue\u001b[0m\u001b[0;34m(\u001b[0m \u001b[0;36m5\u001b[0m \u001b[0;34m,\u001b[0m \u001b[0;34m\"Capitan\"\u001b[0m \u001b[0;34m)\u001b[0m\u001b[0;34m\u001b[0m\u001b[0;34m\u001b[0m\u001b[0m\n\u001b[1;32m     13\u001b[0m \u001b[0msalvavidas\u001b[0m\u001b[0;34m.\u001b[0m\u001b[0menqueue\u001b[0m\u001b[0;34m(\u001b[0m \u001b[0;36m4\u001b[0m \u001b[0;34m,\u001b[0m \u001b[0;34m\"Timonel\"\u001b[0m \u001b[0;34m)\u001b[0m\u001b[0;34m\u001b[0m\u001b[0;34m\u001b[0m\u001b[0m\n\u001b[0;32m---> 14\u001b[0;31m \u001b[0msalvavidas\u001b[0m\u001b[0;34m.\u001b[0m\u001b[0mto_string\u001b[0m\u001b[0;34m(\u001b[0m\u001b[0;34m)\u001b[0m\u001b[0;34m\u001b[0m\u001b[0;34m\u001b[0m\u001b[0m\n\u001b[0m\u001b[1;32m     15\u001b[0m \u001b[0msig\u001b[0m \u001b[0;34m=\u001b[0m \u001b[0msalvavidas\u001b[0m\u001b[0;34m.\u001b[0m\u001b[0mdequeue\u001b[0m\u001b[0;34m(\u001b[0m\u001b[0;34m)\u001b[0m\u001b[0;34m\u001b[0m\u001b[0;34m\u001b[0m\u001b[0m\n\u001b[1;32m     16\u001b[0m \u001b[0mprint\u001b[0m\u001b[0;34m(\u001b[0m\u001b[0;34mf\"Subiendo {sig} al bote salvavidas!!\"\u001b[0m\u001b[0;34m)\u001b[0m\u001b[0;34m\u001b[0m\u001b[0;34m\u001b[0m\u001b[0m\n",
            "\u001b[0;32m<ipython-input-47-2803f15ff6be>\u001b[0m in \u001b[0;36mto_string\u001b[0;34m(self)\u001b[0m\n\u001b[1;32m     30\u001b[0m        \u001b[0mprioridad\u001b[0m \u001b[0;34m=\u001b[0m \u001b[0;36m0\u001b[0m\u001b[0;34m\u001b[0m\u001b[0;34m\u001b[0m\u001b[0m\n\u001b[1;32m     31\u001b[0m        \u001b[0;32mfor\u001b[0m \u001b[0mcola\u001b[0m \u001b[0;32min\u001b[0m \u001b[0mself\u001b[0m\u001b[0;34m.\u001b[0m\u001b[0m__data\u001b[0m\u001b[0;34m:\u001b[0m\u001b[0;34m\u001b[0m\u001b[0;34m\u001b[0m\u001b[0m\n\u001b[0;32m---> 32\u001b[0;31m            \u001b[0mprint\u001b[0m\u001b[0;34m(\u001b[0m\u001b[0;34mf\"Prioridad {Prioridad} ->\"\u001b[0m \u001b[0;34m,\u001b[0m \u001b[0mend\u001b[0m\u001b[0;34m=\u001b[0m\u001b[0;34m\"\"\u001b[0m\u001b[0;34m)\u001b[0m\u001b[0;34m\u001b[0m\u001b[0;34m\u001b[0m\u001b[0m\n\u001b[0m\u001b[1;32m     33\u001b[0m            \u001b[0;32mif\u001b[0m \u001b[0;32mnot\u001b[0m \u001b[0mcola\u001b[0m\u001b[0;34m.\u001b[0m\u001b[0mis_empty\u001b[0m\u001b[0;34m(\u001b[0m\u001b[0;34m)\u001b[0m\u001b[0;34m:\u001b[0m\u001b[0;34m\u001b[0m\u001b[0;34m\u001b[0m\u001b[0m\n\u001b[1;32m     34\u001b[0m                \u001b[0mcola\u001b[0m\u001b[0;34m.\u001b[0m\u001b[0mto_string\u001b[0m\u001b[0;34m(\u001b[0m\u001b[0;34m)\u001b[0m\u001b[0;34m\u001b[0m\u001b[0;34m\u001b[0m\u001b[0m\n",
            "\u001b[0;31mNameError\u001b[0m: name 'Prioridad' is not defined"
          ]
        }
      ]
    },
    {
      "cell_type": "code",
      "metadata": {
        "id": "0xWzMGtRSJU-"
      },
      "source": [
        "#implementacion colas de prioridad\n",
        "\n",
        "class PriorityQueue:\n",
        "    def __init__(self):\n",
        "        self.__data ={}\n",
        "        self.__size=0\n",
        "    \n",
        "    def is_empty( self ):\n",
        "        return self.__size == 0\n",
        "\n",
        "    def length( self ):\n",
        "        return self.__size\n",
        "    \n",
        "    def enqueue(self, prioridad , elem):\n",
        "        existe = False\n",
        "        for index in range(len(self.__data)):\n",
        "            if self.__data[index][ \"prioridad\" ] == prioridad:\n",
        "                existe = True\n",
        "                indice = index\n",
        "            \n",
        "        if existe:\n",
        "            self.__data[indice].enqueue(elem)\n",
        "        else:\n",
        "            self.__data.append( {\"prioridad\":prioridad , \"cola\":Queue() } )\n",
        "            self.__data[-1][\"cola\"].enqueue(elem)\n",
        "\n",
        "    def to_string(self):\n",
        "        for cola in self.__data:\n",
        "            print(cola)"
      ],
      "execution_count": 43,
      "outputs": []
    },
    {
      "cell_type": "code",
      "metadata": {
        "colab": {
          "base_uri": "https://localhost:8080/",
          "height": 237
        },
        "id": "8pZdzAUmbggu",
        "outputId": "5f33870b-85c5-4611-e94f-c2fd44d33600"
      },
      "source": [
        "cp = PriorityQueue\n",
        "cp.enqueue(1,\"Niñas\")\n",
        "cp.enqueue(2,\"Niños\")\n",
        "cp.enqueue(2,\"Profesores\")\n",
        "cp.to_string()"
      ],
      "execution_count": 44,
      "outputs": [
        {
          "output_type": "error",
          "ename": "TypeError",
          "evalue": "ignored",
          "traceback": [
            "\u001b[0;31m---------------------------------------------------------------------------\u001b[0m",
            "\u001b[0;31mTypeError\u001b[0m                                 Traceback (most recent call last)",
            "\u001b[0;32m<ipython-input-44-3a3b23ae97ba>\u001b[0m in \u001b[0;36m<module>\u001b[0;34m()\u001b[0m\n\u001b[1;32m      1\u001b[0m \u001b[0mcp\u001b[0m \u001b[0;34m=\u001b[0m \u001b[0mPriorityQueue\u001b[0m\u001b[0;34m\u001b[0m\u001b[0;34m\u001b[0m\u001b[0m\n\u001b[0;32m----> 2\u001b[0;31m \u001b[0mcp\u001b[0m\u001b[0;34m.\u001b[0m\u001b[0menqueue\u001b[0m\u001b[0;34m(\u001b[0m\u001b[0;36m1\u001b[0m\u001b[0;34m,\u001b[0m\u001b[0;34m\"Niñas\"\u001b[0m\u001b[0;34m)\u001b[0m\u001b[0;34m\u001b[0m\u001b[0;34m\u001b[0m\u001b[0m\n\u001b[0m\u001b[1;32m      3\u001b[0m \u001b[0mcp\u001b[0m\u001b[0;34m.\u001b[0m\u001b[0menqueue\u001b[0m\u001b[0;34m(\u001b[0m\u001b[0;36m2\u001b[0m\u001b[0;34m,\u001b[0m\u001b[0;34m\"Niños\"\u001b[0m\u001b[0;34m)\u001b[0m\u001b[0;34m\u001b[0m\u001b[0;34m\u001b[0m\u001b[0m\n\u001b[1;32m      4\u001b[0m \u001b[0mcp\u001b[0m\u001b[0;34m.\u001b[0m\u001b[0menqueue\u001b[0m\u001b[0;34m(\u001b[0m\u001b[0;36m2\u001b[0m\u001b[0;34m,\u001b[0m\u001b[0;34m\"Profesores\"\u001b[0m\u001b[0;34m)\u001b[0m\u001b[0;34m\u001b[0m\u001b[0;34m\u001b[0m\u001b[0m\n\u001b[1;32m      5\u001b[0m \u001b[0mcp\u001b[0m\u001b[0;34m.\u001b[0m\u001b[0mto_string\u001b[0m\u001b[0;34m(\u001b[0m\u001b[0;34m)\u001b[0m\u001b[0;34m\u001b[0m\u001b[0;34m\u001b[0m\u001b[0m\n",
            "\u001b[0;31mTypeError\u001b[0m: enqueue() missing 1 required positional argument: 'elem'"
          ]
        }
      ]
    },
    {
      "cell_type": "code",
      "metadata": {
        "id": "AC0oDtawUAkx"
      },
      "source": [
        "ed =[\n",
        "     { \"prioridad\" : 1 , \"cola\": Queue() },\n",
        "     { \"prioridad\" : 2 , \"cola\": Queue() },\n",
        "     { \"prioridad\" : 4 , \"cola\": Queue() },\n",
        "     { \"prioridad\" : 20 , \"cola\": Queue() },\n",
        "     { \"prioridad\" : 100 , \"cola\": Queue() },\n",
        "     { \"prioridad\" : 3 , \"cola\": Queue() },\n",
        "\n",
        "     ]"
      ],
      "execution_count": null,
      "outputs": []
    }
  ]
}